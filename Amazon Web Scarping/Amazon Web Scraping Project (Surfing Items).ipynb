{
 "cells": [
  {
   "cell_type": "code",
   "execution_count": 1,
   "id": "2a3a483f",
   "metadata": {},
   "outputs": [],
   "source": [
    "import requests\n",
    "import smtplib\n",
    "import time\n",
    "import datetime\n",
    "from bs4 import BeautifulSoup\n",
    "import csv\n",
    "import pandas as pd\n",
    "from selenium import webdriver\n",
    "from msedge.selenium_tools import Edge, EdgeOptions"
   ]
  },
  {
   "cell_type": "code",
   "execution_count": 2,
   "id": "3e5c51d2",
   "metadata": {},
   "outputs": [],
   "source": [
    "driver = webdriver.Firefox()"
   ]
  },
  {
   "cell_type": "code",
   "execution_count": 3,
   "id": "c22b33fa",
   "metadata": {},
   "outputs": [],
   "source": [
    "url = 'https://www.amazon.com'\n",
    "driver.get(url)"
   ]
  },
  {
   "cell_type": "code",
   "execution_count": 4,
   "id": "615007c9",
   "metadata": {},
   "outputs": [],
   "source": [
    "#Generate a url from search term\n",
    "\n",
    "def get_url(search_term):\n",
    "    template = 'https://www.amazon.com/s?k={}&ref=nb_sb_noss'\n",
    "    search_term = search_term.replace(' ', '+')\n",
    "    return template.format(search_term)"
   ]
  },
  {
   "cell_type": "code",
   "execution_count": 5,
   "id": "bc1cb787",
   "metadata": {},
   "outputs": [
    {
     "name": "stdout",
     "output_type": "stream",
     "text": [
      "https://www.amazon.com/s?k=gaming+chair&ref=nb_sb_noss\n"
     ]
    }
   ],
   "source": [
    "url = get_url('gaming chair')\n",
    "print(url)"
   ]
  },
  {
   "cell_type": "code",
   "execution_count": 6,
   "id": "57df2071",
   "metadata": {},
   "outputs": [],
   "source": [
    "driver.get(url)"
   ]
  },
  {
   "cell_type": "markdown",
   "id": "b18c9b7d",
   "metadata": {},
   "source": [
    "### Extract the collection"
   ]
  },
  {
   "cell_type": "code",
   "execution_count": 9,
   "id": "ba8c2d80",
   "metadata": {},
   "outputs": [],
   "source": [
    "soup = BeautifulSoup(driver.page_source, 'html.parser')"
   ]
  },
  {
   "cell_type": "code",
   "execution_count": 10,
   "id": "d02e7130",
   "metadata": {},
   "outputs": [],
   "source": [
    "results = soup.find_all('div', {'data-component-type': 's-search-result'})"
   ]
  },
  {
   "cell_type": "code",
   "execution_count": 11,
   "id": "00b80b87",
   "metadata": {},
   "outputs": [
    {
     "data": {
      "text/plain": [
       "60"
      ]
     },
     "execution_count": 11,
     "metadata": {},
     "output_type": "execute_result"
    }
   ],
   "source": [
    "len(results)"
   ]
  },
  {
   "cell_type": "markdown",
   "id": "e3220ccb",
   "metadata": {},
   "source": [
    "### Prototype the record"
   ]
  },
  {
   "cell_type": "code",
   "execution_count": 12,
   "id": "d024a899",
   "metadata": {},
   "outputs": [],
   "source": [
    "item = results[0]"
   ]
  },
  {
   "cell_type": "code",
   "execution_count": 13,
   "id": "aed7ede3",
   "metadata": {},
   "outputs": [],
   "source": [
    "atag = item.h2.a"
   ]
  },
  {
   "cell_type": "code",
   "execution_count": 16,
   "id": "deb4810b",
   "metadata": {},
   "outputs": [],
   "source": [
    "description = atag.text.strip()"
   ]
  },
  {
   "cell_type": "code",
   "execution_count": 17,
   "id": "154a9877",
   "metadata": {},
   "outputs": [],
   "source": [
    "url = 'https://www.amazon.com' + atag.get('href')"
   ]
  },
  {
   "cell_type": "code",
   "execution_count": 18,
   "id": "7c1b07b7",
   "metadata": {},
   "outputs": [],
   "source": [
    "price_parent = item.find('span','a-price')"
   ]
  },
  {
   "cell_type": "code",
   "execution_count": 19,
   "id": "b4b0e3a1",
   "metadata": {},
   "outputs": [
    {
     "data": {
      "text/plain": [
       "'$215.24'"
      ]
     },
     "execution_count": 19,
     "metadata": {},
     "output_type": "execute_result"
    }
   ],
   "source": [
    "price_parent.find('span','a-offscreen').text"
   ]
  },
  {
   "cell_type": "code",
   "execution_count": 21,
   "id": "f3875a7f",
   "metadata": {},
   "outputs": [],
   "source": [
    "rating = item.i.text"
   ]
  },
  {
   "cell_type": "code",
   "execution_count": 30,
   "id": "f9a0beb9",
   "metadata": {},
   "outputs": [],
   "source": [
    "review_count = item.find('span', 'a-size-base s-underline-text').text"
   ]
  },
  {
   "cell_type": "markdown",
   "id": "68e66450",
   "metadata": {},
   "source": [
    "### Generalize the pattern"
   ]
  },
  {
   "cell_type": "code",
   "execution_count": 31,
   "id": "9591fd14",
   "metadata": {},
   "outputs": [],
   "source": [
    "def extract_record(item):\n",
    "    #description and url\n",
    "    atag = item.h2.a\n",
    "    description = atag.text.strip()\n",
    "    url = 'https://www.amazon.com' + atag.get('href')\n",
    "    \n",
    "    #price\n",
    "    price_parent = item.find('span','a-price')\n",
    "    price = price_parent.find('span','a-offscreen').text\n",
    "    \n",
    "    #rating\n",
    "    rating = item.i.text\n",
    "    review_count = item.find('span', 'a-size-base s-underline-text').text\\\n",
    "    \n",
    "    result = (description, price, rating, review_count, url)\n",
    "    \n",
    "    return result"
   ]
  },
  {
   "cell_type": "code",
   "execution_count": 33,
   "id": "8cb82114",
   "metadata": {},
   "outputs": [
    {
     "ename": "AttributeError",
     "evalue": "'NoneType' object has no attribute 'find'",
     "output_type": "error",
     "traceback": [
      "\u001b[1;31m---------------------------------------------------------------------------\u001b[0m",
      "\u001b[1;31mAttributeError\u001b[0m                            Traceback (most recent call last)",
      "Input \u001b[1;32mIn [33]\u001b[0m, in \u001b[0;36m<cell line: 4>\u001b[1;34m()\u001b[0m\n\u001b[0;32m      2\u001b[0m results \u001b[38;5;241m=\u001b[39m soup\u001b[38;5;241m.\u001b[39mfind_all(\u001b[38;5;124m'\u001b[39m\u001b[38;5;124mdiv\u001b[39m\u001b[38;5;124m'\u001b[39m, {\u001b[38;5;124m'\u001b[39m\u001b[38;5;124mdata-component-type\u001b[39m\u001b[38;5;124m'\u001b[39m: \u001b[38;5;124m'\u001b[39m\u001b[38;5;124ms-search-result\u001b[39m\u001b[38;5;124m'\u001b[39m})\n\u001b[0;32m      4\u001b[0m \u001b[38;5;28;01mfor\u001b[39;00m item \u001b[38;5;129;01min\u001b[39;00m results:\n\u001b[1;32m----> 5\u001b[0m     record\u001b[38;5;241m.\u001b[39mappend(\u001b[43mextract_record\u001b[49m\u001b[43m(\u001b[49m\u001b[43mitem\u001b[49m\u001b[43m)\u001b[49m)\n",
      "Input \u001b[1;32mIn [31]\u001b[0m, in \u001b[0;36mextract_record\u001b[1;34m(item)\u001b[0m\n\u001b[0;32m      7\u001b[0m \u001b[38;5;66;03m#price\u001b[39;00m\n\u001b[0;32m      8\u001b[0m price_parent \u001b[38;5;241m=\u001b[39m item\u001b[38;5;241m.\u001b[39mfind(\u001b[38;5;124m'\u001b[39m\u001b[38;5;124mspan\u001b[39m\u001b[38;5;124m'\u001b[39m,\u001b[38;5;124m'\u001b[39m\u001b[38;5;124ma-price\u001b[39m\u001b[38;5;124m'\u001b[39m)\n\u001b[1;32m----> 9\u001b[0m price \u001b[38;5;241m=\u001b[39m \u001b[43mprice_parent\u001b[49m\u001b[38;5;241;43m.\u001b[39;49m\u001b[43mfind\u001b[49m(\u001b[38;5;124m'\u001b[39m\u001b[38;5;124mspan\u001b[39m\u001b[38;5;124m'\u001b[39m,\u001b[38;5;124m'\u001b[39m\u001b[38;5;124ma-offscreen\u001b[39m\u001b[38;5;124m'\u001b[39m)\u001b[38;5;241m.\u001b[39mtext\n\u001b[0;32m     11\u001b[0m \u001b[38;5;66;03m#rating\u001b[39;00m\n\u001b[0;32m     12\u001b[0m rating \u001b[38;5;241m=\u001b[39m item\u001b[38;5;241m.\u001b[39mi\u001b[38;5;241m.\u001b[39mtext\n",
      "\u001b[1;31mAttributeError\u001b[0m: 'NoneType' object has no attribute 'find'"
     ]
    }
   ],
   "source": [
    "records = []\n",
    "results = soup.find_all('div', {'data-component-type': 's-search-result'})\n",
    "\n",
    "for item in results:\n",
    "    records.append(extract_record(item))"
   ]
  },
  {
   "cell_type": "markdown",
   "id": "c6e4e03a",
   "metadata": {},
   "source": [
    "### Error handiling"
   ]
  },
  {
   "cell_type": "code",
   "execution_count": 45,
   "id": "e1a72f63",
   "metadata": {},
   "outputs": [],
   "source": [
    "def extract_record(item):\n",
    "    #description and url\n",
    "    atag = item.h2.a\n",
    "    description = atag.text.strip()\n",
    "    url = 'https://www.amazon.com' + atag.get('href')\n",
    "    \n",
    "    try:\n",
    "        #price\n",
    "        price_parent = item.find('span','a-price')\n",
    "        price = price_parent.find('span','a-offscreen').text\n",
    "    except AttributeError:\n",
    "        return\n",
    "    \n",
    "    try:\n",
    "        #rating\n",
    "        rating = item.i.text\n",
    "        review_count = item.find('span', 'a-size-base s-underline-text').text\n",
    "    except AttributeError:\n",
    "        rating = ''\n",
    "        review_count = ''\n",
    "        \n",
    "    result = (description, price, rating, review_count, url)\n",
    "    \n",
    "    return result"
   ]
  },
  {
   "cell_type": "code",
   "execution_count": 46,
   "id": "8891c667",
   "metadata": {},
   "outputs": [],
   "source": [
    "records = []\n",
    "results = soup.find_all('div', {'data-component-type': 's-search-result'})\n",
    "\n",
    "for item in results:\n",
    "    record = extract_record(item)\n",
    "    if record:\n",
    "        records.append(record)"
   ]
  },
  {
   "cell_type": "code",
   "execution_count": 47,
   "id": "75ac39d8",
   "metadata": {},
   "outputs": [
    {
     "name": "stdout",
     "output_type": "stream",
     "text": [
      "('Amazon Basics Ergonomic Gaming Chair with Bluetooth Speakers and Built-in Mic, Push-Button Height Control - Grey', '$215.24', '4.3 out of 5 stars', '28', 'https://www.amazon.com/gp/slredirect/picassoRedirect.html/ref=pa_sp_atf_aps_sr_pg1_1?ie=UTF8&adId=A10218423IUEO2KM08TEI&url=%2FAmazon-Basics-Ergonomic-Microphone-Push-Button%2Fdp%2FB08DF13CF7%2Fref%3Dsr_1_1_sspa%3Fkeywords%3Dgaming%2Bchair%26qid%3D1658100384%26sr%3D8-1-spons%26psc%3D1&qualifier=1658100384&id=2058959122136027&widgetName=sp_atf')\n"
     ]
    }
   ],
   "source": [
    "print(records[0])"
   ]
  },
  {
   "cell_type": "code",
   "execution_count": 49,
   "id": "24a575eb",
   "metadata": {},
   "outputs": [
    {
     "name": "stdout",
     "output_type": "stream",
     "text": [
      "$215.24\n",
      "$164.99\n",
      "$199.99\n",
      "$105.00\n",
      "$279.99\n",
      "$280.00\n",
      "$149.90\n",
      "$399.99\n",
      "$169.90\n",
      "$199.99\n",
      "$379.00\n",
      "$326.92\n",
      "$199.99\n",
      "$148.64\n",
      "$89.99\n",
      "$180.35\n",
      "$179.00\n",
      "$152.91\n",
      "$249.99\n",
      "$164.98\n",
      "$409.99\n",
      "$99.99\n",
      "$289.00\n",
      "$149.99\n",
      "$239.99\n",
      "$229.99\n",
      "$269.99\n",
      "$343.98\n",
      "$199.00\n",
      "$179.99\n",
      "$99.99\n",
      "$209.99\n",
      "$119.99\n",
      "$239.99\n",
      "$153.52\n",
      "$239.31\n",
      "$134.00\n",
      "$128.99\n",
      "$179.99\n",
      "$239.99\n",
      "$139.99\n",
      "$149.99\n",
      "$389.99\n",
      "$232.99\n",
      "$219.00\n",
      "$81.20\n",
      "$149.90\n",
      "$129.99\n",
      "$482.19\n",
      "$344.70\n",
      "$154.30\n",
      "$92.99\n",
      "$189.99\n",
      "$222.34\n",
      "$215.24\n"
     ]
    }
   ],
   "source": [
    "for row in records:\n",
    "    print(row[1])"
   ]
  },
  {
   "cell_type": "markdown",
   "id": "4b1e5036",
   "metadata": {},
   "source": [
    "### Getting to next page"
   ]
  },
  {
   "cell_type": "code",
   "execution_count": 51,
   "id": "a4260c5d",
   "metadata": {},
   "outputs": [],
   "source": [
    "def get_url(search_term):\n",
    "    template = 'https://www.amazon.com/s?k={}&ref=nb_sb_noss'\n",
    "    search_term = search_term.replace(' ', '+')\n",
    "    \n",
    "    url = template.format(search_term)\n",
    "    url += '&page={}'\n",
    "    return url"
   ]
  },
  {
   "cell_type": "markdown",
   "id": "e45a6036",
   "metadata": {},
   "source": [
    "### Puting it all together"
   ]
  },
  {
   "cell_type": "code",
   "execution_count": 54,
   "id": "586e43ce",
   "metadata": {},
   "outputs": [],
   "source": [
    "from bs4 import BeautifulSoup\n",
    "import csv\n",
    "from selenium import webdriver\n",
    "\n",
    "def get_url(search_term):\n",
    "    template = 'https://www.amazon.com/s?k={}&ref=nb_sb_noss'\n",
    "    search_term = search_term.replace(' ', '+')\n",
    "    \n",
    "    url = template.format(search_term)\n",
    "    url += '&page={}'\n",
    "    return url\n",
    "\n",
    "def extract_record(item):\n",
    "    #description and url\n",
    "    atag = item.h2.a\n",
    "    description = atag.text.strip()\n",
    "    url = 'https://www.amazon.com' + atag.get('href')\n",
    "    \n",
    "    try:\n",
    "        #price\n",
    "        price_parent = item.find('span','a-price')\n",
    "        price = price_parent.find('span','a-offscreen').text\n",
    "    except AttributeError:\n",
    "        return\n",
    "    \n",
    "    try:\n",
    "        #rating\n",
    "        rating = item.i.text\n",
    "        review_count = item.find('span', 'a-size-base s-underline-text').text\n",
    "    except AttributeError:\n",
    "        rating = ''\n",
    "        review_count = ''\n",
    "        \n",
    "    result = (description, price, rating, review_count, url)\n",
    "    \n",
    "    return result\n",
    "\n",
    "def main(search_term):\n",
    "    driver = webdriver.Firefox()\n",
    "    record =[]\n",
    "    url = get_url(search_term)\n",
    "    \n",
    "    for page in range(1,21):\n",
    "        driver.get(url.format(page))\n",
    "        soup = BeautifulSoup(driver.page_source, 'html.parser')\n",
    "        results = soup.find_all('div', {'data-component-type': 's-search-result'})\n",
    "        \n",
    "        for item in results:\n",
    "            record = extract_record(item)\n",
    "            if record:\n",
    "                records.append(record)\n",
    "                \n",
    "    driver.close()\n",
    "    \n",
    "    with open('results.csv', 'w',newline= '', encoding = 'UTF8') as f:\n",
    "        writer = csv.writer(f)\n",
    "        writer.writerow(['Description', 'Price', 'Rating', 'Review_count', 'Url'])\n",
    "        writer.writerows(records)"
   ]
  },
  {
   "cell_type": "code",
   "execution_count": 55,
   "id": "a8223c9b",
   "metadata": {},
   "outputs": [],
   "source": [
    "main('Gaming Chair')"
   ]
  },
  {
   "cell_type": "code",
   "execution_count": null,
   "id": "c9d8807a",
   "metadata": {},
   "outputs": [],
   "source": []
  }
 ],
 "metadata": {
  "kernelspec": {
   "display_name": "Python 3 (ipykernel)",
   "language": "python",
   "name": "python3"
  },
  "language_info": {
   "codemirror_mode": {
    "name": "ipython",
    "version": 3
   },
   "file_extension": ".py",
   "mimetype": "text/x-python",
   "name": "python",
   "nbconvert_exporter": "python",
   "pygments_lexer": "ipython3",
   "version": "3.9.13"
  }
 },
 "nbformat": 4,
 "nbformat_minor": 5
}
